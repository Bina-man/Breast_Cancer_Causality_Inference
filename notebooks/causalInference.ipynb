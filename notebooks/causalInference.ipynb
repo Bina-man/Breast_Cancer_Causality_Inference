{
 "cells": [
  {
   "cell_type": "markdown",
   "metadata": {},
   "source": [
    "# Starting with dowhy for Causality inference analysis\n"
   ]
  },
  {
   "cell_type": "code",
   "execution_count": 1,
   "metadata": {
    "scrolled": true
   },
   "outputs": [
    {
     "name": "stdout",
     "output_type": "stream",
     "text": [
      "Collecting dowhy\n",
      "  Downloading dowhy-0.6-py3-none-any.whl (123 kB)\n",
      "Requirement already satisfied: numpy>=1.15 in c:\\users\\rnd-04\\anaconda3\\lib\\site-packages (from dowhy) (1.20.1)\n",
      "Requirement already satisfied: scipy in c:\\users\\rnd-04\\anaconda3\\lib\\site-packages (from dowhy) (1.6.2)\n",
      "Requirement already satisfied: pandas>=0.24 in c:\\users\\rnd-04\\anaconda3\\lib\\site-packages (from dowhy) (1.2.4)\n",
      "Requirement already satisfied: scikit-learn in c:\\users\\rnd-04\\anaconda3\\lib\\site-packages (from dowhy) (0.24.1)\n",
      "Collecting pydot>=1.4\n",
      "  Downloading pydot-1.4.2-py2.py3-none-any.whl (21 kB)\n",
      "Requirement already satisfied: statsmodels in c:\\users\\rnd-04\\anaconda3\\lib\\site-packages (from dowhy) (0.12.2)\n",
      "Requirement already satisfied: networkx>=2.0 in c:\\users\\rnd-04\\anaconda3\\lib\\site-packages (from dowhy) (2.5)\n",
      "Requirement already satisfied: sympy>=1.4 in c:\\users\\rnd-04\\anaconda3\\lib\\site-packages (from dowhy) (1.8)\n",
      "Requirement already satisfied: decorator>=4.3.0 in c:\\users\\rnd-04\\anaconda3\\lib\\site-packages (from networkx>=2.0->dowhy) (5.0.6)\n",
      "Requirement already satisfied: pytz>=2017.3 in c:\\users\\rnd-04\\anaconda3\\lib\\site-packages (from pandas>=0.24->dowhy) (2021.1)\n",
      "Requirement already satisfied: python-dateutil>=2.7.3 in c:\\users\\rnd-04\\anaconda3\\lib\\site-packages (from pandas>=0.24->dowhy) (2.8.1)\n",
      "Requirement already satisfied: pyparsing>=2.1.4 in c:\\users\\rnd-04\\anaconda3\\lib\\site-packages (from pydot>=1.4->dowhy) (2.4.7)\n",
      "Requirement already satisfied: six>=1.5 in c:\\users\\rnd-04\\anaconda3\\lib\\site-packages (from python-dateutil>=2.7.3->pandas>=0.24->dowhy) (1.15.0)\n",
      "Requirement already satisfied: mpmath>=0.19 in c:\\users\\rnd-04\\anaconda3\\lib\\site-packages (from sympy>=1.4->dowhy) (1.2.1)\n",
      "Requirement already satisfied: threadpoolctl>=2.0.0 in c:\\users\\rnd-04\\anaconda3\\lib\\site-packages (from scikit-learn->dowhy) (2.1.0)\n",
      "Requirement already satisfied: joblib>=0.11 in c:\\users\\rnd-04\\anaconda3\\lib\\site-packages (from scikit-learn->dowhy) (1.0.1)\n",
      "Requirement already satisfied: patsy>=0.5 in c:\\users\\rnd-04\\anaconda3\\lib\\site-packages (from statsmodels->dowhy) (0.5.1)\n",
      "Installing collected packages: pydot, dowhy\n",
      "Successfully installed dowhy-0.6 pydot-1.4.2\n"
     ]
    }
   ],
   "source": [
    "!pip install dowhy"
   ]
  },
  {
   "cell_type": "markdown",
   "metadata": {},
   "source": [
    "### dowhy dataset (should be substituted by brest cancers dataset)"
   ]
  },
  {
   "cell_type": "code",
   "execution_count": 2,
   "metadata": {},
   "outputs": [],
   "source": [
    "from dowhy import CausalModel\n",
    "import dowhy.datasets"
   ]
  },
  {
   "cell_type": "code",
   "execution_count": 3,
   "metadata": {},
   "outputs": [],
   "source": [
    "# Load some sample data\n",
    "data = dowhy.datasets.linear_dataset(\n",
    "    beta=10,\n",
    "    num_common_causes=5,\n",
    "    num_instruments=2,\n",
    "    num_samples=10000,\n",
    "    treatment_is_binary=True)"
   ]
  },
  {
   "cell_type": "code",
   "execution_count": 11,
   "metadata": {
    "scrolled": true
   },
   "outputs": [
    {
     "data": {
      "text/plain": [
       "{'df':        Z0        Z1        W0        W1        W2        W3        W4     v0  \\\n",
       " 0     1.0  0.976250 -0.190243 -0.210336  0.404128 -1.492176 -0.913500   True   \n",
       " 1     1.0  0.821940  1.449783 -1.244749  1.349498  1.205028 -0.351199   True   \n",
       " 2     0.0  0.886512  0.506867 -1.698287  1.582182  1.311806 -0.599291   True   \n",
       " 3     1.0  0.814476  0.625219 -1.482793  2.028301 -1.728053 -2.234636   True   \n",
       " 4     0.0  0.984135  1.665532 -1.300079 -0.851670  0.231970 -0.957373   True   \n",
       " ...   ...       ...       ...       ...       ...       ...       ...    ...   \n",
       " 9995  0.0  0.420429  1.592145 -0.470586 -0.465929  1.777985 -1.933273   True   \n",
       " 9996  0.0  0.929422  0.990914 -0.192458  1.333913 -0.343817  1.158131   True   \n",
       " 9997  0.0  0.486238  0.449783  0.108229 -1.356496  0.448385 -0.344960  False   \n",
       " 9998  1.0  0.362370  0.273964  1.607635 -0.748257 -0.860998 -0.852290   True   \n",
       " 9999  0.0  0.564669  0.652808 -0.028944  1.804492  1.619093  0.630937   True   \n",
       " \n",
       "               y  propensity_score  \n",
       " 0      2.279497          0.758392  \n",
       " 1     16.353895          0.990219  \n",
       " 2     14.850695          0.940034  \n",
       " 3      0.370203          0.708047  \n",
       " 4      1.696590          0.681497  \n",
       " ...         ...               ...  \n",
       " 9995   6.624388          0.888998  \n",
       " 9996  19.200688          0.998748  \n",
       " 9997  -4.743399          0.813069  \n",
       " 9998   4.728364          0.967514  \n",
       " 9999  25.853673          0.999363  \n",
       " \n",
       " [10000 rows x 10 columns],\n",
       " 'treatment_name': ['v0'],\n",
       " 'outcome_name': 'y',\n",
       " 'common_causes_names': ['W0', 'W1', 'W2', 'W3', 'W4'],\n",
       " 'instrument_names': ['Z0', 'Z1'],\n",
       " 'effect_modifier_names': [],\n",
       " 'frontdoor_variables_names': [],\n",
       " 'dot_graph': 'digraph { U[label=\"Unobserved Confounders\"]; U->y;v0->y;U->v0;W0-> v0; W1-> v0; W2-> v0; W3-> v0; W4-> v0;Z0-> v0; Z1-> v0;W0-> y; W1-> y; W2-> y; W3-> y; W4-> y;}',\n",
       " 'gml_graph': 'graph[directed 1node[ id \"y\" label \"y\"]node[ id \"Unobserved Confounders\" label \"Unobserved Confounders\"]edge[source \"Unobserved Confounders\" target \"y\"]node[ id \"W0\" label \"W0\"] node[ id \"W1\" label \"W1\"] node[ id \"W2\" label \"W2\"] node[ id \"W3\" label \"W3\"] node[ id \"W4\" label \"W4\"]node[ id \"Z0\" label \"Z0\"] node[ id \"Z1\" label \"Z1\"]node[ id \"v0\" label \"v0\"]edge[source \"Unobserved Confounders\" target \"v0\"]edge[source \"v0\" target \"y\"]edge[ source \"W0\" target \"v0\"] edge[ source \"W1\" target \"v0\"] edge[ source \"W2\" target \"v0\"] edge[ source \"W3\" target \"v0\"] edge[ source \"W4\" target \"v0\"]edge[ source \"Z0\" target \"v0\"] edge[ source \"Z1\" target \"v0\"]edge[ source \"W0\" target \"y\"] edge[ source \"W1\" target \"y\"] edge[ source \"W2\" target \"y\"] edge[ source \"W3\" target \"y\"] edge[ source \"W4\" target \"y\"]]',\n",
       " 'ate': 9.99989101779552}"
      ]
     },
     "execution_count": 11,
     "metadata": {},
     "output_type": "execute_result"
    }
   ],
   "source": [
    "data"
   ]
  },
  {
   "cell_type": "code",
   "execution_count": 4,
   "metadata": {
    "scrolled": false
   },
   "outputs": [
    {
     "data": {
      "text/plain": [
       "<AxesSubplot:xlabel='v0'>"
      ]
     },
     "execution_count": 4,
     "metadata": {},
     "output_type": "execute_result"
    },
    {
     "data": {
      "image/png": "[encoded data removed]",
      "text/plain": [
       "<Figure size 432x288 with 1 Axes>"
      ]
     },
     "metadata": {
      "needs_background": "light"
     },
     "output_type": "display_data"
    }
   ],
   "source": [
    "import dowhy.api\n",
    "import dowhy.datasets\n",
    "\n",
    "data = dowhy.datasets.linear_dataset(beta=5,\n",
    "    num_common_causes=1,\n",
    "    num_instruments = 0,\n",
    "    num_samples=1000,\n",
    "    treatment_is_binary=True)\n",
    "\n",
    "# data['df'] is just a regular pandas.DataFrame\n",
    "data['df'].causal.do(x='v0', # name of treatment variable\n",
    "                     variable_types={'v0': 'b', 'y': 'c', 'W0': 'c'},\n",
    "                     outcome='y',\n",
    "                     common_causes=['W0']).groupby('v0').mean().plot(y='y', kind='bar')\n"
   ]
  },
  {
   "cell_type": "code",
   "execution_count": 6,
   "metadata": {
    "scrolled": true
   },
   "outputs": [
    {
     "name": "stdout",
     "output_type": "stream",
     "text": [
      "Collecting causalgraphicalmodels\n",
      "  Downloading causalgraphicalmodels-0.0.4-py3-none-any.whl (11 kB)\n",
      "Collecting graphviz\n",
      "  Downloading graphviz-0.17-py3-none-any.whl (18 kB)\n",
      "Requirement already satisfied: numpy in c:\\users\\rnd-04\\anaconda3\\lib\\site-packages (from causalgraphicalmodels) (1.20.1)\n",
      "Requirement already satisfied: networkx in c:\\users\\rnd-04\\anaconda3\\lib\\site-packages (from causalgraphicalmodels) (2.5)\n",
      "Requirement already satisfied: pandas in c:\\users\\rnd-04\\anaconda3\\lib\\site-packages (from causalgraphicalmodels) (1.2.4)\n",
      "Requirement already satisfied: decorator>=4.3.0 in c:\\users\\rnd-04\\anaconda3\\lib\\site-packages (from networkx->causalgraphicalmodels) (5.0.6)\n",
      "Requirement already satisfied: python-dateutil>=2.7.3 in c:\\users\\rnd-04\\anaconda3\\lib\\site-packages (from pandas->causalgraphicalmodels) (2.8.1)\n",
      "Requirement already satisfied: pytz>=2017.3 in c:\\users\\rnd-04\\anaconda3\\lib\\site-packages (from pandas->causalgraphicalmodels) (2021.1)\n",
      "Requirement already satisfied: six>=1.5 in c:\\users\\rnd-04\\anaconda3\\lib\\site-packages (from python-dateutil>=2.7.3->pandas->causalgraphicalmodels) (1.15.0)\n",
      "Installing collected packages: graphviz, causalgraphicalmodels\n",
      "Successfully installed causalgraphicalmodels-0.0.4 graphviz-0.17\n"
     ]
    }
   ],
   "source": [
    "!pip install causalgraphicalmodels"
   ]
  },
  {
   "cell_type": "code",
   "execution_count": 9,
   "metadata": {},
   "outputs": [],
   "source": [
    "from causalgraphicalmodels import CausalGraphicalModel\n"
   ]
  },
  {
   "cell_type": "code",
   "execution_count": 58,
   "metadata": {
    "scrolled": false
   },
   "outputs": [
    {
     "data": {
      "image/svg+xml": [
       "<?xml version=\"1.0\" encoding=\"UTF-8\" standalone=\"no\"?>\r\n",
       "<!DOCTYPE svg PUBLIC \"-//W3C//DTD SVG 1.1//EN\"\r\n",
       " \"http://www.w3.org/Graphics/SVG/1.1/DTD/svg11.dtd\">\r\n",
       "<!-- Generated by graphviz version 2.38.0 (20140413.2041)\r\n",
       " -->\r\n",
       "<!-- Title: %3 Pages: 1 -->\r\n",
       "<svg width=\"164pt\" height=\"260pt\"\r\n",
       " viewBox=\"0.00 0.00 164.25 260.00\" xmlns=\"http://www.w3.org/2000/svg\" xmlns:xlink=\"http://www.w3.org/1999/xlink\">\r\n",
       "<g id=\"graph0\" class=\"graph\" transform=\"scale(1 1) rotate(0) translate(4 256)\">\r\n",
       "<title>%3</title>\r\n",
       "<polygon fill=\"white\" stroke=\"none\" points=\"-4,4 -4,-256 160.246,-256 160.246,4 -4,4\"/>\r\n",
       "<!-- wet -->\r\n",
       "<g id=\"node1\" class=\"node\"><title>wet</title>\r\n",
       "<ellipse fill=\"none\" stroke=\"black\" cx=\"70\" cy=\"-90\" rx=\"27\" ry=\"18\"/>\r\n",
       "<text text-anchor=\"middle\" x=\"70\" y=\"-86.3\" font-family=\"Times New Roman,serif\" font-size=\"14.00\">wet</text>\r\n",
       "</g>\r\n",
       "<!-- slippery -->\r\n",
       "<g id=\"node5\" class=\"node\"><title>slippery</title>\r\n",
       "<ellipse fill=\"none\" stroke=\"black\" cx=\"70\" cy=\"-18\" rx=\"39.7935\" ry=\"18\"/>\r\n",
       "<text text-anchor=\"middle\" x=\"70\" y=\"-14.3\" font-family=\"Times New Roman,serif\" font-size=\"14.00\">slippery</text>\r\n",
       "</g>\r\n",
       "<!-- wet&#45;&gt;slippery -->\r\n",
       "<g id=\"edge5\" class=\"edge\"><title>wet&#45;&gt;slippery</title>\r\n",
       "<path fill=\"none\" stroke=\"black\" d=\"M70,-71.6966C70,-63.9827 70,-54.7125 70,-46.1124\"/>\r\n",
       "<polygon fill=\"black\" stroke=\"black\" points=\"73.5001,-46.1043 70,-36.1043 66.5001,-46.1044 73.5001,-46.1043\"/>\r\n",
       "</g>\r\n",
       "<!-- rain -->\r\n",
       "<g id=\"node2\" class=\"node\"><title>rain</title>\r\n",
       "<ellipse fill=\"none\" stroke=\"black\" cx=\"27\" cy=\"-162\" rx=\"27\" ry=\"18\"/>\r\n",
       "<text text-anchor=\"middle\" x=\"27\" y=\"-158.3\" font-family=\"Times New Roman,serif\" font-size=\"14.00\">rain</text>\r\n",
       "</g>\r\n",
       "<!-- rain&#45;&gt;wet -->\r\n",
       "<g id=\"edge3\" class=\"edge\"><title>rain&#45;&gt;wet</title>\r\n",
       "<path fill=\"none\" stroke=\"black\" d=\"M36.7574,-145.116C42.1452,-136.345 48.9523,-125.264 55.0015,-115.416\"/>\r\n",
       "<polygon fill=\"black\" stroke=\"black\" points=\"58.0293,-117.174 60.2812,-106.821 52.0647,-113.51 58.0293,-117.174\"/>\r\n",
       "</g>\r\n",
       "<!-- sprinkler -->\r\n",
       "<g id=\"node3\" class=\"node\"><title>sprinkler</title>\r\n",
       "<ellipse fill=\"none\" stroke=\"black\" cx=\"114\" cy=\"-162\" rx=\"42.4939\" ry=\"18\"/>\r\n",
       "<text text-anchor=\"middle\" x=\"114\" y=\"-158.3\" font-family=\"Times New Roman,serif\" font-size=\"14.00\">sprinkler</text>\r\n",
       "</g>\r\n",
       "<!-- sprinkler&#45;&gt;wet -->\r\n",
       "<g id=\"edge4\" class=\"edge\"><title>sprinkler&#45;&gt;wet</title>\r\n",
       "<path fill=\"none\" stroke=\"black\" d=\"M103.573,-144.411C98.1803,-135.832 91.4913,-125.191 85.5066,-115.67\"/>\r\n",
       "<polygon fill=\"black\" stroke=\"black\" points=\"88.3347,-113.592 80.0497,-106.988 82.4082,-117.317 88.3347,-113.592\"/>\r\n",
       "</g>\r\n",
       "<!-- season -->\r\n",
       "<g id=\"node4\" class=\"node\"><title>season</title>\r\n",
       "<ellipse fill=\"none\" stroke=\"black\" cx=\"70\" cy=\"-234\" rx=\"35.9954\" ry=\"18\"/>\r\n",
       "<text text-anchor=\"middle\" x=\"70\" y=\"-230.3\" font-family=\"Times New Roman,serif\" font-size=\"14.00\">season</text>\r\n",
       "</g>\r\n",
       "<!-- season&#45;&gt;rain -->\r\n",
       "<g id=\"edge1\" class=\"edge\"><title>season&#45;&gt;rain</title>\r\n",
       "<path fill=\"none\" stroke=\"black\" d=\"M59.8096,-216.411C54.5399,-207.832 48.0029,-197.191 42.1541,-187.67\"/>\r\n",
       "<polygon fill=\"black\" stroke=\"black\" points=\"45.0378,-185.677 36.8213,-178.988 39.0732,-189.341 45.0378,-185.677\"/>\r\n",
       "</g>\r\n",
       "<!-- season&#45;&gt;sprinkler -->\r\n",
       "<g id=\"edge2\" class=\"edge\"><title>season&#45;&gt;sprinkler</title>\r\n",
       "<path fill=\"none\" stroke=\"black\" d=\"M80.4274,-216.411C85.7426,-207.955 92.3178,-197.494 98.2365,-188.078\"/>\r\n",
       "<polygon fill=\"black\" stroke=\"black\" points=\"101.289,-189.799 103.647,-179.47 95.3625,-186.074 101.289,-189.799\"/>\r\n",
       "</g>\r\n",
       "</g>\r\n",
       "</svg>\r\n"
      ],
      "text/plain": [
       "<graphviz.dot.Digraph at 0x227d2a35730>"
      ]
     },
     "execution_count": 58,
     "metadata": {},
     "output_type": "execute_result"
    }
   ],
   "source": [
    "sprinkler = CausalGraphicalModel(\n",
    "    nodes=[\"season\", \"rain\", \"sprinkler\", \"wet\", \"slippery\"],\n",
    "    edges=[\n",
    "        (\"season\", \"rain\"), \n",
    "        (\"season\", \"sprinkler\"), \n",
    "        (\"rain\", \"wet\"),\n",
    "        (\"sprinkler\", \"wet\"), \n",
    "        (\"wet\", \"slippery\")\n",
    "    ]\n",
    ")\n",
    "\n",
    "# sprinkler\n",
    "# draw return a graphviz `dot` object, which jupyter can render\n",
    "sprinkler.draw()"
   ]
  }
 ],
 "metadata": {
  "kernelspec": {
   "display_name": "Python 3",
   "language": "python",
   "name": "python3"
  },
  "language_info": {
   "codemirror_mode": {
    "name": "ipython",
    "version": 3
   },
   "file_extension": ".py",
   "mimetype": "text/x-python",
   "name": "python",
   "nbconvert_exporter": "python",
   "pygments_lexer": "ipython3",
   "version": "3.8.8"
  }
 },
 "nbformat": 4,
 "nbformat_minor": 4
}
