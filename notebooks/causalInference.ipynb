{
 "cells": [
  {
   "cell_type": "code",
   "execution_count": 2,
   "metadata": {
    "scrolled": true
   },
   "outputs": [
    {
     "name": "stdout",
     "output_type": "stream",
     "text": [
      "Collecting dowhy\n",
      "  Using cached dowhy-0.6-py3-none-any.whl (123 kB)\n",
      "Requirement already satisfied: scikit-learn in c:\\users\\betelhem\\anaconda3\\lib\\site-packages (from dowhy) (0.23.2)\n",
      "Requirement already satisfied: numpy>=1.15 in c:\\users\\betelhem\\anaconda3\\lib\\site-packages (from dowhy) (1.19.2)\n",
      "Requirement already satisfied: scipy in c:\\users\\betelhem\\anaconda3\\lib\\site-packages (from dowhy) (1.5.2)\n",
      "Requirement already satisfied: sympy>=1.4 in c:\\users\\betelhem\\anaconda3\\lib\\site-packages (from dowhy) (1.6.2)\n",
      "Requirement already satisfied: pandas>=0.24 in c:\\users\\betelhem\\anaconda3\\lib\\site-packages (from dowhy) (1.1.3)\n",
      "Requirement already satisfied: networkx>=2.0 in c:\\users\\betelhem\\appdata\\roaming\\python\\python38\\site-packages (from dowhy) (2.5.1)\n",
      "Requirement already satisfied: statsmodels in c:\\users\\betelhem\\anaconda3\\lib\\site-packages (from dowhy) (0.12.2)\n",
      "Requirement already satisfied: pydot>=1.4 in c:\\users\\betelhem\\appdata\\roaming\\python\\python38\\site-packages (from dowhy) (1.4.2)\n",
      "Collecting decorator<5,>=4.3\n",
      "  Using cached decorator-4.4.2-py2.py3-none-any.whl (9.2 kB)\n",
      "Requirement already satisfied: pytz>=2017.2 in c:\\users\\betelhem\\anaconda3\\lib\\site-packages (from pandas>=0.24->dowhy) (2020.1)\n",
      "Requirement already satisfied: python-dateutil>=2.7.3 in c:\\users\\betelhem\\appdata\\roaming\\python\\python38\\site-packages (from pandas>=0.24->dowhy) (2.8.2)\n",
      "Requirement already satisfied: pyparsing>=2.1.4 in c:\\users\\betelhem\\appdata\\roaming\\python\\python38\\site-packages (from pydot>=1.4->dowhy) (2.4.7)\n",
      "Requirement already satisfied: six>=1.5 in c:\\users\\betelhem\\appdata\\roaming\\python\\python38\\site-packages (from python-dateutil>=2.7.3->pandas>=0.24->dowhy) (1.16.0)\n",
      "Requirement already satisfied: mpmath>=0.19 in c:\\users\\betelhem\\anaconda3\\lib\\site-packages (from sympy>=1.4->dowhy) (1.1.0)\n",
      "Requirement already satisfied: joblib>=0.11 in c:\\users\\betelhem\\anaconda3\\lib\\site-packages (from scikit-learn->dowhy) (0.17.0)\n",
      "Requirement already satisfied: threadpoolctl>=2.0.0 in c:\\users\\betelhem\\anaconda3\\lib\\site-packages (from scikit-learn->dowhy) (2.1.0)\n",
      "Requirement already satisfied: patsy>=0.5 in c:\\users\\betelhem\\anaconda3\\lib\\site-packages (from statsmodels->dowhy) (0.5.1)\n",
      "Installing collected packages: decorator, dowhy\n",
      "  Attempting uninstall: decorator\n",
      "    Found existing installation: decorator 5.0.9\n",
      "    Uninstalling decorator-5.0.9:\n",
      "      Successfully uninstalled decorator-5.0.9\n",
      "Successfully installed decorator-5.0.9 dowhy-0.6\n"
     ]
    },
    {
     "name": "stderr",
     "output_type": "stream",
     "text": [
      "ERROR: pip's dependency resolver does not currently take into account all the packages that are installed. This behaviour is the source of the following dependency conflicts.\n",
      "dvc 2.5.4 requires flufl.lock<4,>=3.2, but you have flufl-lock 5.1 which is incompatible.\n",
      "dvc 2.5.4 requires ruamel.yaml>=0.16.1, but you have ruamel-yaml 0.15.87 which is incompatible.\n"
     ]
    }
   ],
   "source": [
    "!pip install dowhy"
   ]
  },
  {
   "cell_type": "code",
   "execution_count": 4,
   "metadata": {},
   "outputs": [],
   "source": [
    "from dowhy import CausalModel\n",
    "import dowhy.datasets"
   ]
  },
  {
   "cell_type": "code",
   "execution_count": 5,
   "metadata": {},
   "outputs": [],
   "source": [
    "# Load some sample data\n",
    "data = dowhy.datasets.linear_dataset(\n",
    "    beta=10,\n",
    "    num_common_causes=5,\n",
    "    num_instruments=2,\n",
    "    num_samples=10000,\n",
    "    treatment_is_binary=True)"
   ]
  },
  {
   "cell_type": "code",
   "execution_count": 11,
   "metadata": {
    "scrolled": true
   },
   "outputs": [
    {
     "data": {
      "text/plain": [
       "{'df':        Z0        Z1        W0        W1        W2        W3        W4     v0  \\\n",
       " 0     1.0  0.976250 -0.190243 -0.210336  0.404128 -1.492176 -0.913500   True   \n",
       " 1     1.0  0.821940  1.449783 -1.244749  1.349498  1.205028 -0.351199   True   \n",
       " 2     0.0  0.886512  0.506867 -1.698287  1.582182  1.311806 -0.599291   True   \n",
       " 3     1.0  0.814476  0.625219 -1.482793  2.028301 -1.728053 -2.234636   True   \n",
       " 4     0.0  0.984135  1.665532 -1.300079 -0.851670  0.231970 -0.957373   True   \n",
       " ...   ...       ...       ...       ...       ...       ...       ...    ...   \n",
       " 9995  0.0  0.420429  1.592145 -0.470586 -0.465929  1.777985 -1.933273   True   \n",
       " 9996  0.0  0.929422  0.990914 -0.192458  1.333913 -0.343817  1.158131   True   \n",
       " 9997  0.0  0.486238  0.449783  0.108229 -1.356496  0.448385 -0.344960  False   \n",
       " 9998  1.0  0.362370  0.273964  1.607635 -0.748257 -0.860998 -0.852290   True   \n",
       " 9999  0.0  0.564669  0.652808 -0.028944  1.804492  1.619093  0.630937   True   \n",
       " \n",
       "               y  propensity_score  \n",
       " 0      2.279497          0.758392  \n",
       " 1     16.353895          0.990219  \n",
       " 2     14.850695          0.940034  \n",
       " 3      0.370203          0.708047  \n",
       " 4      1.696590          0.681497  \n",
       " ...         ...               ...  \n",
       " 9995   6.624388          0.888998  \n",
       " 9996  19.200688          0.998748  \n",
       " 9997  -4.743399          0.813069  \n",
       " 9998   4.728364          0.967514  \n",
       " 9999  25.853673          0.999363  \n",
       " \n",
       " [10000 rows x 10 columns],\n",
       " 'treatment_name': ['v0'],\n",
       " 'outcome_name': 'y',\n",
       " 'common_causes_names': ['W0', 'W1', 'W2', 'W3', 'W4'],\n",
       " 'instrument_names': ['Z0', 'Z1'],\n",
       " 'effect_modifier_names': [],\n",
       " 'frontdoor_variables_names': [],\n",
       " 'dot_graph': 'digraph { U[label=\"Unobserved Confounders\"]; U->y;v0->y;U->v0;W0-> v0; W1-> v0; W2-> v0; W3-> v0; W4-> v0;Z0-> v0; Z1-> v0;W0-> y; W1-> y; W2-> y; W3-> y; W4-> y;}',\n",
       " 'gml_graph': 'graph[directed 1node[ id \"y\" label \"y\"]node[ id \"Unobserved Confounders\" label \"Unobserved Confounders\"]edge[source \"Unobserved Confounders\" target \"y\"]node[ id \"W0\" label \"W0\"] node[ id \"W1\" label \"W1\"] node[ id \"W2\" label \"W2\"] node[ id \"W3\" label \"W3\"] node[ id \"W4\" label \"W4\"]node[ id \"Z0\" label \"Z0\"] node[ id \"Z1\" label \"Z1\"]node[ id \"v0\" label \"v0\"]edge[source \"Unobserved Confounders\" target \"v0\"]edge[source \"v0\" target \"y\"]edge[ source \"W0\" target \"v0\"] edge[ source \"W1\" target \"v0\"] edge[ source \"W2\" target \"v0\"] edge[ source \"W3\" target \"v0\"] edge[ source \"W4\" target \"v0\"]edge[ source \"Z0\" target \"v0\"] edge[ source \"Z1\" target \"v0\"]edge[ source \"W0\" target \"y\"] edge[ source \"W1\" target \"y\"] edge[ source \"W2\" target \"y\"] edge[ source \"W3\" target \"y\"] edge[ source \"W4\" target \"y\"]]',\n",
       " 'ate': 9.99989101779552}"
      ]
     },
     "execution_count": 11,
     "metadata": {},
     "output_type": "execute_result"
    }
   ],
   "source": [
    "data"
   ]
  },
  {
   "cell_type": "code",
   "execution_count": 12,
   "metadata": {},
   "outputs": [
    {
     "data": {
      "text/plain": [
       "<AxesSubplot:xlabel='v0'>"
      ]
     },
     "execution_count": 12,
     "metadata": {},
     "output_type": "execute_result"
    },
    {
     "data": {
      "image/png": "[encoded data removed]",
      "text/plain": [
       "<Figure size 432x288 with 1 Axes>"
      ]
     },
     "metadata": {
      "needs_background": "light"
     },
     "output_type": "display_data"
    }
   ],
   "source": [
    "import dowhy.api\n",
    "import dowhy.datasets\n",
    "\n",
    "data = dowhy.datasets.linear_dataset(beta=5,\n",
    "    num_common_causes=1,\n",
    "    num_instruments = 0,\n",
    "    num_samples=1000,\n",
    "    treatment_is_binary=True)\n",
    "\n",
    "# data['df'] is just a regular pandas.DataFrame\n",
    "data['df'].causal.do(x='v0', # name of treatment variable\n",
    "                     variable_types={'v0': 'b', 'y': 'c', 'W0': 'c'},\n",
    "                     outcome='y',\n",
    "                     common_causes=['W0']).groupby('v0').mean().plot(y='y', kind='bar')\n"
   ]
  }
 ],
 "metadata": {
  "kernelspec": {
   "display_name": "Python 3",
   "language": "python",
   "name": "python3"
  },
  "language_info": {
   "codemirror_mode": {
    "name": "ipython",
    "version": 3
   },
   "file_extension": ".py",
   "mimetype": "text/x-python",
   "name": "python",
   "nbconvert_exporter": "python",
   "pygments_lexer": "ipython3",
   "version": "3.8.5"
  }
 },
 "nbformat": 4,
 "nbformat_minor": 4
}
